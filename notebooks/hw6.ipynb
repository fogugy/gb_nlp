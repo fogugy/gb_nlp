{
 "cells": [
  {
   "cell_type": "code",
   "execution_count": 1,
   "metadata": {},
   "outputs": [
    {
     "name": "stderr",
     "output_type": "stream",
     "text": [
      "/usr/local/lib/python3.6/site-packages/pandas/compat/__init__.py:120: UserWarning: Could not import the lzma module. Your installed Python is incomplete. Attempting to use lzma compression will result in a RuntimeError.\n",
      "  warnings.warn(msg)\n"
     ]
    }
   ],
   "source": [
    "import pandas as pd\n",
    "from string import punctuation\n",
    "from stop_words import get_stop_words\n",
    "from pymorphy2 import MorphAnalyzer\n",
    "from sklearn.model_selection import train_test_split\n",
    "import re"
   ]
  },
  {
   "cell_type": "code",
   "execution_count": 2,
   "metadata": {},
   "outputs": [],
   "source": [
    "df = pd.read_excel('./summer.xls')\n",
    "df_train = df[:15000]\n",
    "df_test = df[15000:]"
   ]
  },
  {
   "cell_type": "code",
   "execution_count": 3,
   "metadata": {},
   "outputs": [
    {
     "data": {
      "text/html": [
       "<div>\n",
       "<style scoped>\n",
       "    .dataframe tbody tr th:only-of-type {\n",
       "        vertical-align: middle;\n",
       "    }\n",
       "\n",
       "    .dataframe tbody tr th {\n",
       "        vertical-align: top;\n",
       "    }\n",
       "\n",
       "    .dataframe thead th {\n",
       "        text-align: right;\n",
       "    }\n",
       "</style>\n",
       "<table border=\"1\" class=\"dataframe\">\n",
       "  <thead>\n",
       "    <tr style=\"text-align: right;\">\n",
       "      <th></th>\n",
       "      <th>Rating</th>\n",
       "      <th>Content</th>\n",
       "      <th>Date</th>\n",
       "    </tr>\n",
       "  </thead>\n",
       "  <tbody>\n",
       "    <tr>\n",
       "      <th>0</th>\n",
       "      <td>5</td>\n",
       "      <td>It just works!</td>\n",
       "      <td>2017-08-14</td>\n",
       "    </tr>\n",
       "    <tr>\n",
       "      <th>1</th>\n",
       "      <td>4</td>\n",
       "      <td>В целом удобноное приложение...из минусов хотя...</td>\n",
       "      <td>2017-08-14</td>\n",
       "    </tr>\n",
       "    <tr>\n",
       "      <th>2</th>\n",
       "      <td>5</td>\n",
       "      <td>Отлично все</td>\n",
       "      <td>2017-08-14</td>\n",
       "    </tr>\n",
       "    <tr>\n",
       "      <th>3</th>\n",
       "      <td>5</td>\n",
       "      <td>Стал зависать на 1% работы антивируса. Дальше ...</td>\n",
       "      <td>2017-08-14</td>\n",
       "    </tr>\n",
       "    <tr>\n",
       "      <th>4</th>\n",
       "      <td>5</td>\n",
       "      <td>Очень удобно, работает быстро.</td>\n",
       "      <td>2017-08-14</td>\n",
       "    </tr>\n",
       "  </tbody>\n",
       "</table>\n",
       "</div>"
      ],
      "text/plain": [
       "   Rating                                            Content        Date\n",
       "0       5                                     It just works!  2017-08-14\n",
       "1       4  В целом удобноное приложение...из минусов хотя...  2017-08-14\n",
       "2       5                                        Отлично все  2017-08-14\n",
       "3       5  Стал зависать на 1% работы антивируса. Дальше ...  2017-08-14\n",
       "4       5                     Очень удобно, работает быстро.  2017-08-14"
      ]
     },
     "execution_count": 3,
     "metadata": {},
     "output_type": "execute_result"
    }
   ],
   "source": [
    "df.head()"
   ]
  },
  {
   "cell_type": "code",
   "execution_count": 4,
   "metadata": {},
   "outputs": [
    {
     "name": "stdout",
     "output_type": "stream",
     "text": [
      "<class 'pandas.core.frame.DataFrame'>\n",
      "RangeIndex: 20659 entries, 0 to 20658\n",
      "Data columns (total 3 columns):\n",
      " #   Column   Non-Null Count  Dtype \n",
      "---  ------   --------------  ----- \n",
      " 0   Rating   20659 non-null  int64 \n",
      " 1   Content  20656 non-null  object\n",
      " 2   Date     20659 non-null  object\n",
      "dtypes: int64(1), object(2)\n",
      "memory usage: 484.3+ KB\n"
     ]
    }
   ],
   "source": [
    "df.info()"
   ]
  },
  {
   "cell_type": "code",
   "execution_count": 5,
   "metadata": {},
   "outputs": [
    {
     "name": "stderr",
     "output_type": "stream",
     "text": [
      "/usr/local/lib/python3.6/site-packages/ipykernel_launcher.py:13: SettingWithCopyWarning: \n",
      "A value is trying to be set on a copy of a slice from a DataFrame.\n",
      "Try using .loc[row_indexer,col_indexer] = value instead\n",
      "\n",
      "See the caveats in the documentation: https://pandas.pydata.org/pandas-docs/stable/user_guide/indexing.html#returning-a-view-versus-a-copy\n",
      "  del sys.path[0]\n",
      "/usr/local/lib/python3.6/site-packages/ipykernel_launcher.py:14: SettingWithCopyWarning: \n",
      "A value is trying to be set on a copy of a slice from a DataFrame.\n",
      "Try using .loc[row_indexer,col_indexer] = value instead\n",
      "\n",
      "See the caveats in the documentation: https://pandas.pydata.org/pandas-docs/stable/user_guide/indexing.html#returning-a-view-versus-a-copy\n",
      "  \n"
     ]
    }
   ],
   "source": [
    "sw = set(get_stop_words(\"ru\"))\n",
    "exclude = set(punctuation)\n",
    "morpher = MorphAnalyzer()\n",
    "\n",
    "def preprocess_text(txt):\n",
    "    txt = str(txt)\n",
    "    txt = \"\".join(c for c in txt if c not in exclude)\n",
    "    txt = txt.lower()\n",
    "    txt = re.sub(\"\\sне\", \"не\", txt)\n",
    "    txt = [morpher.parse(word)[0].normal_form for word in txt.split() if word not in sw]\n",
    "    return \" \".join(txt)\n",
    "\n",
    "df_train['Content'] = df_train['Content'].apply(preprocess_text)\n",
    "df_test['Content'] = df_test['Content'].apply(preprocess_text)"
   ]
  },
  {
   "cell_type": "code",
   "execution_count": 6,
   "metadata": {},
   "outputs": [],
   "source": [
    "import numpy as np\n",
    "import keras\n",
    "from keras.models import Sequential, Model\n",
    "from keras.layers import Dense, Dropout, Activation, Input, Embedding, Conv1D, GlobalMaxPool1D, \\\n",
    "    SimpleRNN, LSTM, GRU, Masking, LSTM, GRU\n",
    "from keras.preprocessing.text import Tokenizer\n",
    "from keras.preprocessing.sequence import pad_sequences\n",
    "from keras.callbacks import TensorBoard \n",
    "from keras.objectives import categorical_crossentropy\n",
    "from keras.callbacks import EarlyStopping  "
   ]
  },
  {
   "cell_type": "code",
   "execution_count": 7,
   "metadata": {},
   "outputs": [],
   "source": [
    "text_corpus_train = df_train['Content'].values\n",
    "text_corpus_test = df_test['Content'].values"
   ]
  },
  {
   "cell_type": "code",
   "execution_count": 8,
   "metadata": {},
   "outputs": [],
   "source": [
    "tokenizer = Tokenizer(num_words=None, \n",
    "                     filters='#$%&()*+-<=>@[\\\\]^_`{|}~\\t\\n',\n",
    "                     lower = False, split = ' ')\n",
    "tokenizer.fit_on_texts(text_corpus_train)\n",
    "\n",
    "sequences_train = tokenizer.texts_to_sequences(text_corpus_train)\n",
    "sequences_test = tokenizer.texts_to_sequences(text_corpus_test)\n",
    "\n",
    "word_count = len(tokenizer.index_word) + 1\n",
    "training_length = max([len(i.split()) for i in text_corpus_train])\n",
    "\n",
    "X_train = pad_sequences(sequences_train, maxlen=training_length)\n",
    "X_test = pad_sequences(sequences_test, maxlen=training_length)"
   ]
  },
  {
   "cell_type": "code",
   "execution_count": 9,
   "metadata": {},
   "outputs": [],
   "source": [
    "y_train = df_train['Rating'].values\n",
    "y_test = df_test['Rating'].values"
   ]
  },
  {
   "cell_type": "markdown",
   "metadata": {},
   "source": [
    "#### RNN"
   ]
  },
  {
   "cell_type": "code",
   "execution_count": 10,
   "metadata": {},
   "outputs": [],
   "source": [
    "rnn = Sequential()\n",
    "\n",
    "rnn.add(\n",
    "    Embedding(input_dim=word_count,\n",
    "              input_length=training_length,\n",
    "              output_dim=30,\n",
    "              trainable=True,\n",
    "              mask_zero=True))\n",
    "rnn.add(Masking(mask_value=0.0))\n",
    "\n",
    "rnn.add(SimpleRNN(64))\n",
    "rnn.add(Dense(64, activation='relu'))\n",
    "rnn.add(Dropout(0.5))\n",
    "rnn.add(Dense(1, activation='sigmoid'))\n",
    "\n",
    "rnn.compile(optimizer='adam', loss='binary_crossentropy', metrics=['accuracy'])"
   ]
  },
  {
   "cell_type": "code",
   "execution_count": 11,
   "metadata": {},
   "outputs": [],
   "source": [
    "def eval(model):\n",
    "    early_stopping=EarlyStopping(monitor='val_loss')  \n",
    "\n",
    "    history = model.fit(X_train, y_train,\n",
    "                    batch_size=512,\n",
    "                    epochs=10,\n",
    "                    verbose=1,\n",
    "                    validation_split=0.1,\n",
    "                    callbacks=[early_stopping])\n",
    "    \n",
    "    score = model.evaluate(X_test, y_test, batch_size=512, verbose=1)\n",
    "    print('\\n')\n",
    "    print('Test score:', score[0])\n",
    "    print('Test accuracy:', score[1])"
   ]
  },
  {
   "cell_type": "code",
   "execution_count": 12,
   "metadata": {
    "scrolled": false
   },
   "outputs": [
    {
     "name": "stdout",
     "output_type": "stream",
     "text": [
      "Epoch 1/10\n",
      "27/27 [==============================] - 3s 113ms/step - loss: -11.9315 - accuracy: 0.0864 - val_loss: -25.9587 - val_accuracy: 0.1207\n",
      "Epoch 2/10\n",
      "27/27 [==============================] - 3s 122ms/step - loss: -44.6909 - accuracy: 0.0882 - val_loss: -63.1289 - val_accuracy: 0.1207\n",
      "Epoch 3/10\n",
      "27/27 [==============================] - 3s 118ms/step - loss: -89.8441 - accuracy: 0.0882 - val_loss: -112.9749 - val_accuracy: 0.1207\n",
      "Epoch 4/10\n",
      "27/27 [==============================] - 3s 114ms/step - loss: -149.1974 - accuracy: 0.0882 - val_loss: -177.2270 - val_accuracy: 0.1207\n",
      "Epoch 5/10\n",
      "27/27 [==============================] - 3s 104ms/step - loss: -224.0366 - accuracy: 0.0882 - val_loss: -256.6948 - val_accuracy: 0.1207\n",
      "Epoch 6/10\n",
      "27/27 [==============================] - 3s 98ms/step - loss: -315.9622 - accuracy: 0.0882 - val_loss: -352.0982 - val_accuracy: 0.1207\n",
      "Epoch 7/10\n",
      "27/27 [==============================] - 3s 99ms/step - loss: -424.6941 - accuracy: 0.0882 - val_loss: -463.6341 - val_accuracy: 0.1207\n",
      "Epoch 8/10\n",
      "27/27 [==============================] - 3s 111ms/step - loss: -550.5987 - accuracy: 0.0882 - val_loss: -591.4530 - val_accuracy: 0.1207\n",
      "Epoch 9/10\n",
      "27/27 [==============================] - 3s 103ms/step - loss: -693.9349 - accuracy: 0.0882 - val_loss: -735.5700 - val_accuracy: 0.1207\n",
      "Epoch 10/10\n",
      "27/27 [==============================] - 3s 99ms/step - loss: -854.9756 - accuracy: 0.0882 - val_loss: -896.3978 - val_accuracy: 0.1207\n",
      "12/12 [==============================] - 0s 35ms/step - loss: -852.9500 - accuracy: 0.1597\n",
      "\n",
      "\n",
      "Test score: -852.9500122070312\n",
      "Test accuracy: 0.15974554419517517\n"
     ]
    }
   ],
   "source": [
    "eval(rnn)"
   ]
  },
  {
   "cell_type": "markdown",
   "metadata": {},
   "source": [
    "#### LSTM"
   ]
  },
  {
   "cell_type": "code",
   "execution_count": 13,
   "metadata": {},
   "outputs": [],
   "source": [
    "lstm = Sequential()\n",
    "\n",
    "lstm.add(\n",
    "    Embedding(input_dim=word_count,\n",
    "              input_length=training_length,\n",
    "              output_dim=30,\n",
    "              trainable=True,\n",
    "              mask_zero=True))\n",
    "lstm.add(Masking(mask_value=0.0))\n",
    "\n",
    "lstm.add(LSTM(10))\n",
    "lstm.add(Dense(64, activation='relu'))\n",
    "lstm.add(Dropout(0.5))\n",
    "lstm.add(Dense(1, activation='sigmoid'))\n",
    "\n",
    "lstm.compile(optimizer='adam', loss='binary_crossentropy', metrics=['accuracy'])"
   ]
  },
  {
   "cell_type": "code",
   "execution_count": 14,
   "metadata": {},
   "outputs": [
    {
     "name": "stdout",
     "output_type": "stream",
     "text": [
      "Epoch 1/10\n",
      "27/27 [==============================] - 3s 115ms/step - loss: -0.3686 - accuracy: 0.0860 - val_loss: -2.4766 - val_accuracy: 0.1207\n",
      "Epoch 2/10\n",
      "27/27 [==============================] - 2s 75ms/step - loss: -7.2144 - accuracy: 0.0882 - val_loss: -12.5423 - val_accuracy: 0.1207\n",
      "Epoch 3/10\n",
      "27/27 [==============================] - 2s 75ms/step - loss: -19.8413 - accuracy: 0.0882 - val_loss: -27.2232 - val_accuracy: 0.1207\n",
      "Epoch 4/10\n",
      "27/27 [==============================] - 2s 73ms/step - loss: -38.9613 - accuracy: 0.0882 - val_loss: -49.3673 - val_accuracy: 0.1207\n",
      "Epoch 5/10\n",
      "27/27 [==============================] - 2s 74ms/step - loss: -65.7146 - accuracy: 0.0882 - val_loss: -77.7983 - val_accuracy: 0.1207\n",
      "Epoch 6/10\n",
      "27/27 [==============================] - 2s 76ms/step - loss: -98.0237 - accuracy: 0.0882 - val_loss: -110.3944 - val_accuracy: 0.1207\n",
      "Epoch 7/10\n",
      "27/27 [==============================] - 2s 79ms/step - loss: -133.9345 - accuracy: 0.0882 - val_loss: -146.5698 - val_accuracy: 0.1207\n",
      "Epoch 8/10\n",
      "27/27 [==============================] - 2s 74ms/step - loss: -174.2529 - accuracy: 0.0882 - val_loss: -186.4521 - val_accuracy: 0.1207\n",
      "Epoch 9/10\n",
      "27/27 [==============================] - 2s 74ms/step - loss: -218.3888 - accuracy: 0.0882 - val_loss: -230.1345 - val_accuracy: 0.1207\n",
      "Epoch 10/10\n",
      "27/27 [==============================] - 2s 76ms/step - loss: -265.8839 - accuracy: 0.0882 - val_loss: -277.4466 - val_accuracy: 0.1207\n",
      "12/12 [==============================] - 0s 24ms/step - loss: -264.6200 - accuracy: 0.1597\n",
      "\n",
      "\n",
      "Test score: -264.6200256347656\n",
      "Test accuracy: 0.15974554419517517\n"
     ]
    }
   ],
   "source": [
    "eval(lstm)"
   ]
  },
  {
   "cell_type": "markdown",
   "metadata": {},
   "source": [
    "#### GRU"
   ]
  },
  {
   "cell_type": "code",
   "execution_count": 15,
   "metadata": {},
   "outputs": [],
   "source": [
    "gru = Sequential()\n",
    "\n",
    "gru.add(\n",
    "    Embedding(input_dim=word_count,\n",
    "              input_length=training_length,\n",
    "              output_dim=30,\n",
    "              trainable=True,\n",
    "              mask_zero=True))\n",
    "gru.add(Masking(mask_value=0.0))\n",
    "\n",
    "gru.add(GRU(4))\n",
    "gru.add(Dense(64, activation='relu'))\n",
    "gru.add(Dropout(0.5))\n",
    "gru.add(Dense(1, activation='sigmoid'))\n",
    "\n",
    "gru.compile(optimizer='adam', loss='binary_crossentropy', metrics=['accuracy'])"
   ]
  },
  {
   "cell_type": "code",
   "execution_count": 16,
   "metadata": {},
   "outputs": [
    {
     "name": "stdout",
     "output_type": "stream",
     "text": [
      "Epoch 1/10\n",
      "27/27 [==============================] - 3s 108ms/step - loss: 0.1725 - accuracy: 0.0864 - val_loss: -0.5444 - val_accuracy: 0.1207\n",
      "Epoch 2/10\n",
      "27/27 [==============================] - 2s 64ms/step - loss: -1.9349 - accuracy: 0.0882 - val_loss: -3.7594 - val_accuracy: 0.1207\n",
      "Epoch 3/10\n",
      "27/27 [==============================] - 2s 67ms/step - loss: -7.3939 - accuracy: 0.0882 - val_loss: -11.5551 - val_accuracy: 0.1207\n",
      "Epoch 4/10\n",
      "27/27 [==============================] - 2s 66ms/step - loss: -18.6751 - accuracy: 0.0882 - val_loss: -24.9147 - val_accuracy: 0.1207\n",
      "Epoch 5/10\n",
      "27/27 [==============================] - 2s 69ms/step - loss: -34.7091 - accuracy: 0.0882 - val_loss: -41.2709 - val_accuracy: 0.1207\n",
      "Epoch 6/10\n",
      "27/27 [==============================] - 2s 66ms/step - loss: -53.3430 - accuracy: 0.0882 - val_loss: -59.5909 - val_accuracy: 0.1207\n",
      "Epoch 7/10\n",
      "27/27 [==============================] - 2s 71ms/step - loss: -73.6197 - accuracy: 0.0882 - val_loss: -79.6240 - val_accuracy: 0.1207\n",
      "Epoch 8/10\n",
      "27/27 [==============================] - 2s 73ms/step - loss: -95.9651 - accuracy: 0.0882 - val_loss: -101.6193 - val_accuracy: 0.1207\n",
      "Epoch 9/10\n",
      "27/27 [==============================] - 2s 63ms/step - loss: -120.1820 - accuracy: 0.0882 - val_loss: -125.6643 - val_accuracy: 0.1207\n",
      "Epoch 10/10\n",
      "27/27 [==============================] - 2s 62ms/step - loss: -146.4747 - accuracy: 0.0882 - val_loss: -151.7666 - val_accuracy: 0.1207\n",
      "12/12 [==============================] - 0s 17ms/step - loss: -146.0345 - accuracy: 0.1597\n",
      "\n",
      "\n",
      "Test score: -146.03445434570312\n",
      "Test accuracy: 0.15974554419517517\n"
     ]
    }
   ],
   "source": [
    "eval(gru)"
   ]
  },
  {
   "cell_type": "markdown",
   "metadata": {},
   "source": [
    "Одинаково плохо на всех моделях. Не так подготовил данные?"
   ]
  }
 ],
 "metadata": {
  "kernelspec": {
   "display_name": "Python 3",
   "language": "python",
   "name": "python3"
  },
  "language_info": {
   "codemirror_mode": {
    "name": "ipython",
    "version": 3
   },
   "file_extension": ".py",
   "mimetype": "text/x-python",
   "name": "python",
   "nbconvert_exporter": "python",
   "pygments_lexer": "ipython3",
   "version": "3.6.3"
  }
 },
 "nbformat": 4,
 "nbformat_minor": 4
}
